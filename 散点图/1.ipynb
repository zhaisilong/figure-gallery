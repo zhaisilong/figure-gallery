{
 "cells": [
  {
   "cell_type": "code",
   "execution_count": 1,
   "metadata": {},
   "outputs": [],
   "source": [
    "import pandas as pd\n",
    "df = pd.read_csv('test.csv',index_col=0)"
   ]
  },
  {
   "cell_type": "code",
   "execution_count": 2,
   "metadata": {},
   "outputs": [
    {
     "data": {
      "text/html": [
       "<div>\n",
       "<style scoped>\n",
       "    .dataframe tbody tr th:only-of-type {\n",
       "        vertical-align: middle;\n",
       "    }\n",
       "\n",
       "    .dataframe tbody tr th {\n",
       "        vertical-align: top;\n",
       "    }\n",
       "\n",
       "    .dataframe thead th {\n",
       "        text-align: right;\n",
       "    }\n",
       "</style>\n",
       "<table border=\"1\" class=\"dataframe\">\n",
       "  <thead>\n",
       "    <tr style=\"text-align: right;\">\n",
       "      <th></th>\n",
       "      <th>tmp</th>\n",
       "      <th>v</th>\n",
       "      <th>emit</th>\n",
       "      <th>trans</th>\n",
       "      <th>1_emit</th>\n",
       "      <th>color</th>\n",
       "    </tr>\n",
       "  </thead>\n",
       "  <tbody>\n",
       "    <tr>\n",
       "      <th>0</th>\n",
       "      <td>96</td>\n",
       "      <td>1070</td>\n",
       "      <td>4.164</td>\n",
       "      <td>98.63</td>\n",
       "      <td>0.240154</td>\n",
       "      <td>NaN</td>\n",
       "    </tr>\n",
       "    <tr>\n",
       "      <th>1</th>\n",
       "      <td>72</td>\n",
       "      <td>5130</td>\n",
       "      <td>2.684</td>\n",
       "      <td>81.53</td>\n",
       "      <td>0.372578</td>\n",
       "      <td>NaN</td>\n",
       "    </tr>\n",
       "    <tr>\n",
       "      <th>2</th>\n",
       "      <td>80</td>\n",
       "      <td>4550</td>\n",
       "      <td>3.216</td>\n",
       "      <td>82.36</td>\n",
       "      <td>0.310945</td>\n",
       "      <td>NaN</td>\n",
       "    </tr>\n",
       "    <tr>\n",
       "      <th>3</th>\n",
       "      <td>48</td>\n",
       "      <td>490</td>\n",
       "      <td>1.336</td>\n",
       "      <td>98.68</td>\n",
       "      <td>0.748503</td>\n",
       "      <td>NaN</td>\n",
       "    </tr>\n",
       "    <tr>\n",
       "      <th>4</th>\n",
       "      <td>56</td>\n",
       "      <td>2810</td>\n",
       "      <td>1.748</td>\n",
       "      <td>93.51</td>\n",
       "      <td>0.572082</td>\n",
       "      <td>NaN</td>\n",
       "    </tr>\n",
       "  </tbody>\n",
       "</table>\n",
       "</div>"
      ],
      "text/plain": [
       "   tmp     v   emit  trans    1_emit  color\n",
       "0   96  1070  4.164  98.63  0.240154    NaN\n",
       "1   72  5130  2.684  81.53  0.372578    NaN\n",
       "2   80  4550  3.216  82.36  0.310945    NaN\n",
       "3   48   490  1.336  98.68  0.748503    NaN\n",
       "4   56  2810  1.748  93.51  0.572082    NaN"
      ]
     },
     "execution_count": 2,
     "metadata": {},
     "output_type": "execute_result"
    }
   ],
   "source": [
    "df.head()"
   ]
  },
  {
   "cell_type": "code",
   "execution_count": 3,
   "metadata": {},
   "outputs": [],
   "source": [
    "df1=df.iloc[:10]\n",
    "df2=df.iloc[10:]"
   ]
  },
  {
   "cell_type": "code",
   "execution_count": 7,
   "metadata": {},
   "outputs": [
    {
     "data": {
      "text/plain": [
       "Text(0.5, 1.0, 'Iteration')"
      ]
     },
     "execution_count": 7,
     "metadata": {},
     "output_type": "execute_result"
    },
    {
     "data": {
      "image/png": "[encoded data removed]",
      "text/plain": [
       "<Figure size 504x504 with 2 Axes>"
      ]
     },
     "metadata": {
      "needs_background": "light"
     },
     "output_type": "display_data"
    }
   ],
   "source": [
    "import seaborn as sns\n",
    "import matplotlib.pyplot as plt\n",
    "from matplotlib import pyplot as plt\n",
    "plt.style.use(\"seaborn-paper\")  \n",
    "fig, axes = plt.subplots(1, 1, figsize=(7, 7))\n",
    "cm = plt.cm.get_cmap('turbo')\n",
    "# cm=plt.cm.get_cmap('viridis')\n",
    "batch_number = [x for x in range(len(df2))]\n",
    "sc = axes.scatter(df2['trans'], df2['emit'], c=batch_number, cmap=cm, alpha=0.8)\n",
    "sc_black = axes.scatter(df1['trans'],df1['emit'],c='black', alpha=0.8)\n",
    "axes.set_ylabel(\"Conversion\",fontsize=18)\n",
    "axes.set_xlim(80, 100)\n",
    "axes.set_ylim(0,5)\n",
    "axes.set_xlabel(\"Selectivity\",fontsize=18)  \n",
    "norm = plt.Normalize(min(batch_number), max(batch_number))\n",
    "sm =  plt.cm.ScalarMappable(norm=norm, cmap=cm)\n",
    "sm.set_array([])\n",
    "fig.subplots_adjust(right=0.9)\n",
    "cbar_ax = fig.add_axes([1, 0.18, 0.04, 0.7])\n",
    "cbar = fig.colorbar(sm, cax=cbar_ax)\n",
    "cbar.ax.set_title(\"Iteration\",fontsize=18)"
   ]
  },
  {
   "cell_type": "code",
   "execution_count": 5,
   "metadata": {},
   "outputs": [
    {
     "data": {
      "text/plain": [
       "<Figure size 460.8x316.8 with 0 Axes>"
      ]
     },
     "metadata": {},
     "output_type": "display_data"
    }
   ],
   "source": [
    "plt.savefig('test.png',transparent=True)"
   ]
  },
  {
   "cell_type": "code",
   "execution_count": 6,
   "metadata": {},
   "outputs": [
    {
     "data": {
      "text/plain": [
       "Text(0.5, 1.0, 'Iteration')"
      ]
     },
     "execution_count": 6,
     "metadata": {},
     "output_type": "execute_result"
    },
    {
     "data": {
      "image/png": "[encoded data removed]",
      "text/plain": [
       "<Figure size 504x504 with 2 Axes>"
      ]
     },
     "metadata": {
      "needs_background": "light"
     },
     "output_type": "display_data"
    }
   ],
   "source": [
    "import seaborn as sns\n",
    "import matplotlib.pyplot as plt\n",
    "from matplotlib import pyplot as plt\n",
    "plt.style.use(\"seaborn-paper\")  \n",
    "fig, axes = plt.subplots(1, 1, figsize=(7, 7))\n",
    "# cm = plt.cm.get_cmap('turbo')\n",
    "cm=plt.cm.get_cmap('viridis')\n",
    "batch_number = [x for x in range(len(df2))]\n",
    "sc = axes.scatter(df2['trans'], df2['emit'], c=batch_number, alpha=0.8)\n",
    "sc_black = axes.scatter(df1['trans'],df1['emit'],c='black', alpha=0.8)\n",
    "axes.set_ylabel(\"Conversion\",fontsize=18)\n",
    "axes.set_xlim(80, 100)\n",
    "axes.set_ylim(0,5)\n",
    "axes.set_xlabel(\"Selectivity\",fontsize=18)  \n",
    "norm = plt.Normalize(min(batch_number), max(batch_number))\n",
    "sm =  plt.cm.ScalarMappable(norm=norm, cmap=cm)\n",
    "sm.set_array([])\n",
    "fig.subplots_adjust(right=0.9)\n",
    "cbar_ax = fig.add_axes([1, 0.18, 0.04, 0.7])\n",
    "cbar = fig.colorbar(sm, cax=cbar_ax)\n",
    "cbar.ax.set_title(\"Iteration\",fontsize=18)"
   ]
  },
  {
   "cell_type": "code",
   "execution_count": null,
   "metadata": {},
   "outputs": [],
   "source": []
  }
 ],
 "metadata": {
  "kernelspec": {
   "display_name": "Python 3.9.7 ('base')",
   "language": "python",
   "name": "python3"
  },
  "language_info": {
   "codemirror_mode": {
    "name": "ipython",
    "version": 3
   },
   "file_extension": ".py",
   "mimetype": "text/x-python",
   "name": "python",
   "nbconvert_exporter": "python",
   "pygments_lexer": "ipython3",
   "version": "3.9.7"
  },
  "orig_nbformat": 4,
  "vscode": {
   "interpreter": {
    "hash": "0318ac3bd3f59db66109d50e71bef0a750d226209e5ff62348269391b9fbc17e"
   }
  }
 },
 "nbformat": 4,
 "nbformat_minor": 2
}
